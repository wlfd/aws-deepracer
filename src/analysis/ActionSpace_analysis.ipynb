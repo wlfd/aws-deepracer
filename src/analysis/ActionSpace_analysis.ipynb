{
 "cells": [
  {
   "cell_type": "markdown",
   "metadata": {},
   "source": [
    "# Action Space analysis for AWS DeepRacer\n",
    "This notebook has been built for the [AWS DeepRacer-Analysis](https://github.com/aws-deepracer-community/deepracer-analysis.git) \n",
    "provided by  the [AWS DeepRacer Community](http://join.deepracing.io).\n",
    "\n",
    "## Usage\n",
    "Copy this Notebook to \"work\" folder in your allready installed [AWS DeepRacer-Analysis](https://github.com/aws-deepracer-community/deepracer-analysis.git)\n",
    "\n",
    "**This notebook isn't complete.**\n",
    "If you find some bugs, have problems with some tracks or something else\n",
    "please report to @Kire in [AWS Machine Learning Community](https://aws-ml-community.slack.com) on #Slack\n",
    "\n",
    "## Contributions\n",
    "As usual, your ideas are very welcome and encouraged so if you have any suggestions either bring them\n",
    "to [the AWS DeepRacer Community](http://join.deepracing.io) or share as code contributions.\n",
    "\n",
    "## Requirements\n",
    "Installed [AWS DeepRacer-Analysis](https://github.com/aws-deepracer-community/deepracer-analysis.git) \n",
    "\n",
    "## Credits\n",
    "I would like to thank [the AWS DeepRacer Community](http://join.deepracing.io)\n",
    "\n",
    "# Log Analysis\n",
    "\n",
    "Let's get to it.\n",
    "\n",
    "## Imports\n",
    "\n",
    "Run the imports block below:"
   ]
  },
  {
   "cell_type": "code",
   "execution_count": null,
   "metadata": {
    "tags": []
   },
   "outputs": [],
   "source": [
    "import numpy as np\n",
    "import pandas as pd\n",
    "import matplotlib.pyplot as plt\n",
    "%matplotlib inline\n",
    "\n",
    "from deepracer.tracks import TrackIO, Track\n",
    "from deepracer.logs import \\\n",
    "    SimulationLogsIO as slio, \\\n",
    "    PlottingUtils as pu,\\\n",
    "    AnalysisUtils as au   #, \\\n",
    "\n",
    "# Ignore deprecation warnings we have no power over\n",
    "import warnings\n",
    "warnings.filterwarnings('ignore')"
   ]
  },
  {
   "cell_type": "markdown",
   "metadata": {},
   "source": [
    "## Load waypoints for the track you want to run analysis on\n",
    "\n",
    "Remeber that evaluation npy files are a community effort to visualise the tracks in the trainings, they aren't 100% accurate.\n",
    "\n",
    "Tracks Available:"
   ]
  },
  {
   "cell_type": "code",
   "execution_count": null,
   "metadata": {
    "tags": []
   },
   "outputs": [],
   "source": [
    "tu = TrackIO()\n",
    "\n",
    "for f in tu.get_tracks():\n",
    "    print(f)"
   ]
  },
  {
   "cell_type": "markdown",
   "metadata": {},
   "source": [
    "Take the name from results above and paste below to load the key elements of the track and view the outline of it."
   ]
  },
  {
   "cell_type": "code",
   "execution_count": null,
   "metadata": {},
   "outputs": [],
   "source": [
    "track: Track = tu.load_track(\"reinvent_base\")\n",
    " \n",
    "l_track = track.center_line\n",
    "l_outer_border = track.outer_border\n",
    "l_inner_border = track.inner_border\n",
    "\n",
    "pu.plot_trackpoints(track)"
   ]
  },
  {
   "cell_type": "markdown",
   "metadata": {},
   "source": [
    "## Get the logs\n",
    "\n",
    "Depending on which way you are training your model, you will need a different way to load the data.\n",
    "\n",
    "**AWS DeepRacer Console**\n",
    "The logs are being stored in CloudWatch, in group `/aws/robomaker/SimulationJobs`. You will be using boto3 to download them based on the training ID (stream name prefix). If you wish to bulk export the logs from Amazon Cloudwatch to Amazon S3 :: https://docs.aws.amazon.com/AmazonCloudWatch/latest/logs/S3ExportTasks.html\n",
    "\n",
    "**DeepRacer for Dummies/ARCC local training**\n",
    "Those two setups come with a container that runs Jupyter Notebook (as you noticed if you're using one of them and reading this text). Logs are stored in `/logs/` and you just need to point at the latest file to see the current training. The logs are split for long running training if they exceed 500 MB. The log loading method has been extended to support that.\n",
    "\n",
    "**Chris Rhodes' repo**\n",
    "Chris repo doesn't come with logs storage out of the box. I would normally run `docker logs dr > /path/to/logfile` and then load the file.\n",
    "\n",
    "Below I have prepared a section for each case. In each case you can analyse the logs as the training is being run, just in case of the Console you may need to force downloading of the logs as the `cw.download_log` method has a protection against needless downloads.\n",
    "\n",
    "Select your preferred way to get the logs below and you can get rid of the rest."
   ]
  },
  {
   "cell_type": "code",
   "execution_count": null,
   "metadata": {
    "tags": []
   },
   "outputs": [],
   "source": [
    "# AWS DeepRacer Console\n",
    "fname = 'logs/training-20221104122716-TyYNxqCXSDaapkp5Yzs4IQ-robomaker.log'"
   ]
  },
  {
   "cell_type": "markdown",
   "metadata": {},
   "source": [
    "## Load the trace training log\n",
    "\n",
    "Now that the data is downloaded, we need to load it into memory. We will first read it from file and then convert to data frames in Pandas. [Pandas](https://pandas.pydata.org/) is a Python library for handling and analysing large amounts of data series. Remember this name, you may want to learn more about how to use it to get more information that you would like to get from the logs. Examples below are hardly scratching the surface.\n",
    "\n",
    "One important information to enter is the setting of your Episodes per iteration hyperparameter. This is used to group the episodes into iterations. This information is valuable when later looking at graphs showing how the training progresses per iteration. You can use it to detect which iteration gave you better outcomes and, if in local training, you could move to that iteration's outcome for submissions in the AWS DeepRacer League or  for continuing the training.\n",
    "\n",
    "The log files you have just gathered above have lines like this one:\n",
    "```\n",
    "SIM_TRACE_LOG:799,111,1.7594,4.4353,3.0875,-0.26,2.50,2,1.0000,False,True,71.5802,49,17.67,1555554451.1110387\n",
    "```\n",
    "This is all that matters for us. The first two are some tests I believe and when loading they get skipped, then each next line has the following fields:\n",
    "* episode number\n",
    "* step number\n",
    "* x coordinate\n",
    "* y coordinate\n",
    "* yaw of the car (where the car is heading)\n",
    "* decision about turning (turn value from your action space)\n",
    "* decision about throttle (speed value from your action space)\n",
    "* decision index (value from your action space)\n",
    "* reward value\n",
    "* is the car going backwards\n",
    "* are all wheels on track?\n",
    "* progress in the lap\n",
    "* closest waypoint\n",
    "* track length\n",
    "* timestamp\n",
    "\n",
    "`la.load_data` and then `la.convert_to_pandas` read it and prepare for your usage. Sorting the values may not be needed, but I have experienced under some circumstances that the log lines were not ordered properly."
   ]
  },
  {
   "cell_type": "code",
   "execution_count": null,
   "metadata": {
    "tags": []
   },
   "outputs": [],
   "source": [
    "EPISODES_PER_ITERATION = 20 #  Set to value of your hyperparameter in training\n",
    "\n",
    "data = slio.load_data(fname)\n",
    "df = slio.convert_to_pandas(data, episodes_per_iteration=EPISODES_PER_ITERATION)\n",
    "\n",
    "df = df.sort_values(['episode', 'steps'])\n",
    "# personally I think normalizing can mask too high rewards so I am commenting it out,\n",
    "# but you might want it.\n",
    "# slio.normalize_rewards(df)\n",
    "\n",
    "#Uncomment the line of code below to evaluate a different reward function\n",
    "#nr.new_reward(df, l_center_line, 'reward.reward_sample') #, verbose=True)"
   ]
  },
  {
   "cell_type": "code",
   "execution_count": null,
   "metadata": {
    "tags": []
   },
   "outputs": [],
   "source": [
    "simulation_agg = au.simulation_agg(df)\n",
    "au.analyze_training_progress(simulation_agg, title='Training progress')"
   ]
  },
  {
   "cell_type": "code",
   "execution_count": null,
   "metadata": {
    "tags": []
   },
   "outputs": [],
   "source": [
    "au.scatter_aggregates(simulation_agg, 'Stats for all laps')"
   ]
  },
  {
   "cell_type": "code",
   "execution_count": null,
   "metadata": {
    "tags": []
   },
   "outputs": [],
   "source": [
    "complete_ones = simulation_agg[simulation_agg['progress']==100]\n",
    "\n",
    "if complete_ones.shape[0] > 0:\n",
    "    au.scatter_aggregates(complete_ones, 'Stats for complete laps')\n",
    "else:\n",
    "    print('No complete laps yet.')"
   ]
  },
  {
   "cell_type": "code",
   "execution_count": null,
   "metadata": {
    "scrolled": true
   },
   "outputs": [],
   "source": [
    "# View five best rewarded in completed laps (according to new_reward if you are using it)\n",
    "complete_ones.nlargest(5, 'reward')"
   ]
  },
  {
   "cell_type": "code",
   "execution_count": null,
   "metadata": {},
   "outputs": [],
   "source": [
    "# View five most progressed episodes\n",
    "simulation_agg.nlargest(5, 'progress')"
   ]
  },
  {
   "cell_type": "code",
   "execution_count": null,
   "metadata": {
    "scrolled": true
   },
   "outputs": [],
   "source": [
    "# View information for a couple last episodes\n",
    "simulation_agg.tail()"
   ]
  },
  {
   "cell_type": "code",
   "execution_count": null,
   "metadata": {
    "scrolled": true,
    "tags": []
   },
   "outputs": [],
   "source": [
    "# Set maximum quantity of rows to view for a dataframe display - without that\n",
    "# the view below will just hide some of the steps\n",
    "pd.set_option('display.max_rows', 500)\n",
    "\n",
    "# View all steps data for episode 10\n",
    "df[df['episode']==320]"
   ]
  },
  {
   "cell_type": "markdown",
   "metadata": {},
   "source": [
    "# Extract Action Space List from LOG file"
   ]
  },
  {
   "cell_type": "code",
   "execution_count": null,
   "metadata": {
    "tags": []
   },
   "outputs": [],
   "source": [
    "# Extract Action Space List\n",
    "dgr_norm = 1 # for degrees\n",
    "\n",
    "if df['steering_angle'].max()<2: dgr_norm = 57.6923 # for radians\n",
    "\n",
    "class act(object):\n",
    "    def __init__(self, index=None, steer=None, throttle=None, rel_thr=None, color=([0,0,0])):\n",
    "        self.index = index\n",
    "        self.steer = steer\n",
    "        self.throttle = throttle # relative throttle, max = 1\n",
    "        self.rel_thr = rel_thr\n",
    "        self.color = color\n",
    "\n",
    "maxThrottle = df.speed.max()\n",
    "\n",
    "AS = df[df['steps'] != 0].groupby(['action'], as_index=False)['steering_angle','speed'].median()\n",
    "asl = [None] * AS.shape[0]\n",
    "for i in range(0,AS.shape[0]):\n",
    "    j = AS.action[i].astype(int)\n",
    "    #asl[AS.action[i].astype(int)] = [AS.action[i].astype(int), round(AS.steer[i]*dgr_norm,2), round(AS.throttle[i],2)]\n",
    "    asl[j] = act(j, round(AS.steering_angle[i]*dgr_norm,2), round(AS.speed[i],2))\n",
    "    asl[j].rel_thr = AS.speed[i] / maxThrottle\n",
    "    \n",
    "    cr = 8*max(0,np.sign(asl[j].steer))*abs(asl[j].steer)/255\n",
    "    cg = (0+6*(30-abs(asl[j].steer)))/255\n",
    "    cb = -8*min(0,np.sign(asl[j].steer))*abs(asl[j].steer)/255\n",
    " \n",
    "    asl[AS.action[i].astype(int)].color = ([cr,cg,cb])\n",
    "\n",
    "asMaxY = maxThrottle + 1\n",
    "\n",
    "#########################################################\n",
    "# define some constants for track graphs\n",
    "trkFrame = 50\n",
    "\n",
    "trkPlotXmin = df.x.min() - trkFrame\n",
    "trkPlotXmax = df.x.max() + trkFrame\n",
    "trkPlotYmin = df.y.min() - trkFrame\n",
    "trkPlotYmax = df.y.max() + trkFrame\n",
    "\n",
    "trkPlotXmin = min(l_outer_border[:,0]) - trkFrame\n",
    "trkPlotXmax = max(l_outer_border[:,0]) + trkFrame\n",
    "trkPlotYmin = min(l_outer_border[:,1]) - trkFrame\n",
    "trkPlotYmax = max(l_outer_border[:,1]) + trkFrame\n",
    "\n",
    "trkSizeX = int(trkPlotXmax - trkPlotXmin)\n",
    "trkSizeY = int(trkPlotYmax - trkPlotYmin)\n",
    "\n",
    "trkShiftX = int(trkSizeX - trkPlotXmax)\n",
    "trkShiftY = int(trkSizeY - trkPlotYmax)\n",
    "\n",
    "#print(trkSizeX,trkSizeY,trkPlotYmin,trkPlotYmax)\n",
    "\n",
    "##########################################################\n",
    "# define some constants for Action Space graphs\n",
    "\n",
    "asPlotXmin = round(df.steering_angle.min()*dgr_norm,2)\n",
    "asPlotXmax = round(df.steering_angle.max()*dgr_norm,2)\n",
    "asPlotYmin = round(df.speed.min(),2)\n",
    "asPlotYmax = round(df.speed.max(),2)\n",
    "\n",
    "#df.throttle.min()\n",
    "#print(asPlotXmin,asPlotXmax,asPlotYmin,asPlotYmax)\n",
    "\n",
    "###############################################################\n",
    "\n",
    "print(\"Actions: \\nindex\\t\\tsteering\\tthrottle\")\n",
    "for obj in asl: \n",
    "    print( obj.index, obj.steer, obj.throttle, sep ='\\t\\t' ) \n",
    "    "
   ]
  },
  {
   "cell_type": "markdown",
   "metadata": {},
   "source": [
    "## Function definitions"
   ]
  },
  {
   "cell_type": "code",
   "execution_count": null,
   "metadata": {
    "tags": []
   },
   "outputs": [],
   "source": [
    "## Action Index Map\n",
    "def plot_index_map(actSpaceList):\n",
    "    fig = plt.figure(figsize=(7, 4))\n",
    "    ax = fig.add_subplot(111)\n",
    "    for obj in actSpaceList:\n",
    "        N=100\n",
    "        ax.set_title('Action Index Map')\n",
    "        ax.axis([-35, 35, 0, asMaxY])\n",
    "        ax.set(xlabel='Steering', ylabel='Speed',  xlim=(35,-35))\n",
    "        scatter = ax.scatter((0.0 + obj.steer), (0.0 + obj.throttle),\n",
    "                     color = obj.color,\n",
    "                     s=1200 * obj.rel_thr,\n",
    "                     alpha=0.85)\n",
    "        ax.text((0.5 - obj.steer/70), (0.0 + obj.throttle/asMaxY), \n",
    "                obj.index,verticalalignment='center',\n",
    "                horizontalalignment='center',\n",
    "                transform=ax.transAxes, color =\"w\",\n",
    "                fontsize=15)\n",
    "    plt.show()\n",
    "\n",
    "### Action space histograms\n",
    "\n",
    "# 4 in 1 Histograms\n",
    "def plot_4_hist(df, itr=-1,  E=-1):\n",
    "    if itr > -1 :\n",
    "        episode_data = df[df['iteration'] == itr]\n",
    "        print('Histograms for iteration:',itr)\n",
    "    else:\n",
    "        if E > -1 :\n",
    "            episode_data = df[df['episode'] == E]\n",
    "            print('Histograms for episode:',E)\n",
    "        else:\n",
    "            episode_data = df[:]\n",
    "            print('Histograms for all episodes:') \n",
    "    fig, axs = plt.subplots(2, 2, sharex='col',figsize=(14, 10), sharey='row',  gridspec_kw={'hspace': 0, 'wspace': 0})  \n",
    "    (ax1, ax2), (ax3, ax4) = axs\n",
    "    ax3.hist2d(episode_data['steering_angle']*(dgr_norm), episode_data['speed'], bins=(63, 56),range=[[-31,31],[0,asMaxY]])\n",
    "    ax3.set(xlabel='Steering', ylabel='Speed',  xlim=(31,-31)) \n",
    "    ax2 = plt.subplot(222, polar=True)\n",
    "    ax2.set_theta_zero_location(\"N\")\n",
    "    ax2.hist2d(episode_data['steering_angle']*(dgr_norm/57.6923), episode_data['speed'], bins=(90, 23),range=[[-1.57,1.57],[0,asMaxY]])\n",
    "        # ax2.hist(episode_data['action']*dgr_norm, bins=60)\n",
    "    ax1.hist(episode_data['steering_angle']*dgr_norm, bins=60)\n",
    "    ax4.hist(episode_data['speed'], bins=50, orientation=\"horizontal\")# steer - throttle - actions\n",
    "    for ax in fig.get_axes():\n",
    "        ax.label_outer()\n",
    "        \n",
    "## Big Polar 2D Histogram\n",
    "def plot_polar_hist(df, itr=-1,  E=-1):\n",
    "    if itr > -1 :\n",
    "        episode_data = df[df['iteration'] == itr]\n",
    "        print('Histograms for iteration:',itr)\n",
    "    else:\n",
    "        if E > -1 :\n",
    "            episode_data = df[df['episode'] == E]\n",
    "            print('Histograms for episode:',E)\n",
    "        else:\n",
    "            episode_data = df[:]\n",
    "            print('Histogram for all episodes:')           \n",
    "    fig2 = plt.figure(1, figsize=(7, 7))    \n",
    "    bx = fig2.add_subplot(111, polar=True)\n",
    "    bx.set_theta_zero_location(\"N\")\n",
    "    bx.hist2d(episode_data['steering_angle']*(dgr_norm/57.6923), episode_data['speed'], bins=(90, 25),range=[[-1.57,1.57],[0,asMaxY]])\n",
    "       \n",
    "## Ploting steps in the episodes with red dots\n",
    "def plot_episode_red(df, E): #, center_line, inner_border, outer_border):\n",
    "    fig = plt.figure(1, figsize=(trkSizeX/5, trkSizeY/5))\n",
    "    ax = fig.add_subplot(211)\n",
    "    ax.set_aspect(aspect=1)\n",
    "    pu.print_border(ax, track, color=\"WhiteSmoke\") # center_line, inner_border, outer_border) \n",
    "    episode_data = df[df['episode'] == E]\n",
    "    for row in episode_data.iterrows():\n",
    "        x1,y1,action,reward = row[1]['x'], row[1]['y'], row[1]['action'], row[1]['reward']\n",
    "        car_x2, car_y2 = x1 - 0.02, y1\n",
    "        plt.plot([x1, car_x2], [y1, car_y2], 'r.')        \n",
    "        \n",
    "## Ploting steps in the episodes with dots of different colors and sizes\n",
    "def plot_episode_color(df, E): #, center_line, inner_border, outer_border):\n",
    "    fig = plt.figure(1, figsize=(trkSizeX/5, trkSizeY/5))\n",
    "    ax = fig.add_subplot(211)\n",
    "    ax.set_aspect(aspect=1)\n",
    "    pu.print_border(ax, track, color=\"WhiteSmoke\") # center_line, inner_border, outer_border) \n",
    "    episode_data = df[df['episode'] == E]\n",
    "    for row in episode_data.iterrows():\n",
    "        x1,y1,action,reward = row[1]['x'], row[1]['y'], row[1]['action'], row[1]['reward']\n",
    "        actidx = int(action)\n",
    "        action_color = asl[int(action)].color\n",
    "        action_s = (asl[int(action)].throttle / maxThrottle)**2 * 50 # tune the size of the dots\n",
    "        #print(action_color)\n",
    "        #plt.scatter([x1, car_x2], [y1, car_y2], color=action_color, s=action_s, alpha=0.65)\n",
    "        plt.scatter(x1, y1, color=action_color, s=action_s, alpha=0.75)"
   ]
  },
  {
   "cell_type": "markdown",
   "metadata": {},
   "source": [
    "# Action Space Visualization"
   ]
  },
  {
   "cell_type": "code",
   "execution_count": null,
   "metadata": {},
   "outputs": [],
   "source": [
    "plot_index_map(asl)    "
   ]
  },
  {
   "cell_type": "markdown",
   "metadata": {},
   "source": [
    "# Analysing data from all episodes"
   ]
  },
  {
   "cell_type": "code",
   "execution_count": null,
   "metadata": {},
   "outputs": [],
   "source": [
    "tr_plot = pu.plot_track(df, track, value_field=\"reward\") "
   ]
  },
  {
   "cell_type": "code",
   "execution_count": null,
   "metadata": {
    "tags": []
   },
   "outputs": [],
   "source": [
    "plot_4_hist(df)"
   ]
  },
  {
   "cell_type": "code",
   "execution_count": null,
   "metadata": {},
   "outputs": [],
   "source": [
    "plot_polar_hist(df)"
   ]
  },
  {
   "cell_type": "markdown",
   "metadata": {},
   "source": [
    "\n",
    "\n",
    "# Analyzing specific iteration\n",
    "\n",
    "\n",
    "\n"
   ]
  },
  {
   "cell_type": "code",
   "execution_count": null,
   "metadata": {},
   "outputs": [],
   "source": [
    "# Set iteration id\n",
    "#itr = 12                      # iteration id\n",
    "itr=df['iteration'].max()-10     # last iteration"
   ]
  },
  {
   "cell_type": "code",
   "execution_count": null,
   "metadata": {},
   "outputs": [],
   "source": [
    "for i in range((itr-1)*EPISODES_PER_ITERATION, (itr)*EPISODES_PER_ITERATION):\n",
    "    plot_episode_red(df,i) #,l_inner_border, l_inner_border, l_outer_border)\n",
    "print('Iteration:',itr)    "
   ]
  },
  {
   "cell_type": "code",
   "execution_count": null,
   "metadata": {},
   "outputs": [],
   "source": [
    "#plot_episode_as_hist(df, itr=25)  # specific iteration\n",
    "plot_4_hist(df, itr)  # last iteration"
   ]
  },
  {
   "cell_type": "code",
   "execution_count": null,
   "metadata": {},
   "outputs": [],
   "source": [
    "plot_polar_hist(df, itr)"
   ]
  },
  {
   "cell_type": "markdown",
   "metadata": {},
   "source": [
    "\n",
    "\n",
    "# Analyzing specific episode\n",
    "\n"
   ]
  },
  {
   "cell_type": "code",
   "execution_count": null,
   "metadata": {},
   "outputs": [],
   "source": [
    "### choose episode id\n",
    "EPZ = 210"
   ]
  },
  {
   "cell_type": "code",
   "execution_count": null,
   "metadata": {},
   "outputs": [],
   "source": [
    "# Plot Index Map to understand graph\n",
    "plot_index_map(asl)"
   ]
  },
  {
   "cell_type": "code",
   "execution_count": null,
   "metadata": {},
   "outputs": [],
   "source": [
    "print(\"Every dot is one step. Dot size is proportional to the throttle\")\n",
    "print(\"Colors: Green = Straight, Red = Steering Left, Blue = Steering Right\")\n",
    "plot_episode_color(df,EPZ) #, l_inner_border, l_inner_border, l_outer_border) # arbitrary episode"
   ]
  },
  {
   "cell_type": "code",
   "execution_count": null,
   "metadata": {},
   "outputs": [],
   "source": [
    "plot_4_hist(df, E = EPZ)"
   ]
  },
  {
   "cell_type": "code",
   "execution_count": null,
   "metadata": {},
   "outputs": [],
   "source": [
    "plot_polar_hist(df, E = EPZ)"
   ]
  },
  {
   "cell_type": "code",
   "execution_count": null,
   "metadata": {},
   "outputs": [],
   "source": [
    "#This shows a histogram of actions per waypoint. Will let you spot potentially problematic places\n",
    "episode = df[df['episode']==EPZ]\n",
    "episode[:-1].plot.bar(x='closest_waypoint', y='reward',figsize=(16, 6))"
   ]
  },
  {
   "cell_type": "markdown",
   "metadata": {},
   "source": [
    "# Analyzing Actions\n",
    "## You can analyze all actions or only set of actions with indexes defined in setActions"
   ]
  },
  {
   "cell_type": "code",
   "execution_count": null,
   "metadata": {},
   "outputs": [],
   "source": [
    "aslNum = len(asl)\n",
    "setActions = range(aslNum)     # show graphs for all Actions\n",
    "#setActions = (0,1,6,8,9)       # show graphs only for index set Actions\n",
    "fig = plt.figure(aslNum)\n",
    "for i in setActions: \n",
    "    a = asl[i]\n",
    "    print(\"\\n\\n Heatmap for action with index {}: steering: {}, throttle: {}\".format(a.index, a.steer,a.throttle))\n",
    "    tr_plot = pu.plot_track(df[df['action'] == a.index], track, value_field=\"reward\") \n",
    "    plt.show()"
   ]
  },
  {
   "cell_type": "code",
   "execution_count": null,
   "metadata": {},
   "outputs": [],
   "source": []
  }
 ],
 "metadata": {
  "jupytext": {
   "formats": "ipynb,py:light"
  },
  "kernelspec": {
   "display_name": "Python 3.10.5 64-bit ('3.10.5')",
   "language": "python",
   "name": "python3"
  },
  "language_info": {
   "codemirror_mode": {
    "name": "ipython",
    "version": 3
   },
   "file_extension": ".py",
   "mimetype": "text/x-python",
   "name": "python",
   "nbconvert_exporter": "python",
   "pygments_lexer": "ipython3",
   "version": "3.10.5"
  },
  "vscode": {
   "interpreter": {
    "hash": "0ce713c00a2470f0ac2ba65c74e29dce87b946fd24904bab110c354b24a57a64"
   }
  }
 },
 "nbformat": 4,
 "nbformat_minor": 4
}
